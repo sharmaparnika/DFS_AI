{
  "nbformat": 4,
  "nbformat_minor": 0,
  "metadata": {
    "colab": {
      "name": "DFS_028.ipynb",
      "provenance": [],
      "authorship_tag": "ABX9TyNcddf3WPQM9SmReDD3Rlp8",
      "include_colab_link": true
    },
    "kernelspec": {
      "name": "python3",
      "display_name": "Python 3"
    },
    "language_info": {
      "name": "python"
    }
  },
  "cells": [
    {
      "cell_type": "markdown",
      "metadata": {
        "id": "view-in-github",
        "colab_type": "text"
      },
      "source": [
        "<a href=\"https://colab.research.google.com/github/sharmaparnika/DFS_AI/blob/main/DFS_028.ipynb\" target=\"_parent\"><img src=\"https://colab.research.google.com/assets/colab-badge.svg\" alt=\"Open In Colab\"/></a>"
      ]
    },
    {
      "cell_type": "code",
      "execution_count": null,
      "metadata": {
        "colab": {
          "base_uri": "https://localhost:8080/"
        },
        "id": "w3Yduzy8Et7w",
        "outputId": "9ad53592-631c-4edd-f8d3-0bb94edd596d"
      },
      "outputs": [
        {
          "output_type": "stream",
          "name": "stdout",
          "text": [
            "Depth First Search\n",
            "E C B D H G "
          ]
        }
      ],
      "source": [
        "graph = {\n",
        "    'E':['C','G'],\n",
        "    'C':['B','D'],\n",
        "    'G':['H'],\n",
        "    'B':[],\n",
        "    'D':['H'],\n",
        "    'H':[]\n",
        "}\n",
        "\n",
        "visited = []\n",
        "\n",
        "def Depth(visited, graph, node):\n",
        "  if node not in visited:\n",
        "    print(node, end=\" \")\n",
        "    visited.append(node)\n",
        "    for adj in graph[node]:\n",
        "      Depth(visited, graph, adj)\n",
        "\n",
        "print(\"Depth First Search\")\n",
        "Depth(visited, graph, 'E')"
      ]
    }
  ]
}